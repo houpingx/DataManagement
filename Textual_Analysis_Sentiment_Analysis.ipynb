{
  "nbformat": 4,
  "nbformat_minor": 0,
  "metadata": {
    "colab": {
      "provenance": [],
      "toc_visible": true,
      "authorship_tag": "ABX9TyNuRsEDM2bkNOWMvMPcGx/x",
      "include_colab_link": true
    },
    "kernelspec": {
      "name": "python3",
      "display_name": "Python 3"
    },
    "language_info": {
      "name": "python"
    }
  },
  "cells": [
    {
      "cell_type": "markdown",
      "metadata": {
        "id": "view-in-github",
        "colab_type": "text"
      },
      "source": [
        "<a href=\"https://colab.research.google.com/github/houpingx/DataManagement/blob/main/Textual_Analysis_Sentiment_Analysis.ipynb\" target=\"_parent\"><img src=\"https://colab.research.google.com/assets/colab-badge.svg\" alt=\"Open In Colab\"/></a>"
      ]
    },
    {
      "cell_type": "markdown",
      "source": [
        "# Overview\n",
        "In this code, we will introduce both topic modeling and sentiment analysis for textual analysis"
      ],
      "metadata": {
        "id": "v4zMDXbR4iTZ"
      }
    },
    {
      "cell_type": "markdown",
      "source": [
        "# Sentiment Analysis\n",
        "Sklearn is python package used a lot to build a classification or regression model. Next, we will show how to use different functions in Sklearn to build a classifier, labeling a review as positive (1) or negative (0). Moreover, we will generate the top positive and top negative words and visualize them.\n",
        "\n"
      ],
      "metadata": {
        "id": "cDEUFNPi41MV"
      }
    },
    {
      "cell_type": "markdown",
      "source": [
        "### import packages"
      ],
      "metadata": {
        "id": "3gqNRHhH69m1"
      }
    },
    {
      "cell_type": "code",
      "source": [
        "import sys\n",
        "import re, numpy as np, pandas as pd\n",
        "from pprint import pprint\n",
        "\n",
        "# visualization\n",
        "import seaborn as sns\n",
        "import matplotlib.pyplot as plt\n",
        "import matplotlib.colors as mcolors\n",
        "from matplotlib.patches import Rectangle # Sentence Coloring of N Sentences\n",
        "from matplotlib.ticker import FuncFormatter\n",
        "\n",
        "# NLTK Stop words\n",
        "from collections import Counter\n",
        "from nltk.corpus import stopwords\n",
        "from wordcloud import WordCloud, STOPWORDS\n",
        "warnings.filterwarnings(\"ignore\",category=DeprecationWarning)\n",
        "\n",
        "import re\n",
        "from sklearn.linear_model import LogisticRegression\n",
        "from sklearn.metrics import accuracy_score, confusion_matrix\n",
        "from sklearn.model_selection import train_test_split\n",
        "from sklearn.feature_extraction.text import CountVectorizer\n",
        "\n",
        "from sklearn.svm import SVC\n",
        "from sklearn.naive_bayes import GaussianNB"
      ],
      "metadata": {
        "id": "TbdrfWbD5gAD"
      },
      "execution_count": null,
      "outputs": []
    },
    {
      "cell_type": "markdown",
      "source": [
        "### import stopwords from NLTK"
      ],
      "metadata": {
        "id": "3bhN3FeJH8dB"
      }
    },
    {
      "cell_type": "code",
      "source": [
        "import nltk\n",
        "nltk.download('stopwords')"
      ],
      "metadata": {
        "colab": {
          "base_uri": "https://localhost:8080/"
        },
        "id": "maje8fyBIBwB",
        "outputId": "be49755a-54b7-49bc-eb9d-6b0a5393b9ca"
      },
      "execution_count": null,
      "outputs": [
        {
          "output_type": "stream",
          "name": "stderr",
          "text": [
            "[nltk_data] Downloading package stopwords to /root/nltk_data...\n",
            "[nltk_data]   Unzipping corpora/stopwords.zip.\n"
          ]
        },
        {
          "output_type": "execute_result",
          "data": {
            "text/plain": [
              "True"
            ]
          },
          "metadata": {},
          "execution_count": 3
        }
      ]
    },
    {
      "cell_type": "markdown",
      "source": [
        "generate the stopword list"
      ],
      "metadata": {
        "id": "UzOt_w2GIIVx"
      }
    },
    {
      "cell_type": "code",
      "source": [
        "stop_words = stopwords.words('english')\n",
        "stop_words.extend(['from', 'subject', 're', 'edu', 'use', 'not', 'would', 'say', 'could', '_', 'be', 'know', 'good', 'go', 'get', 'do', 'done', 'try', 'many', 'some', 'nice', 'thank', 'think', 'see', 'rather', 'easy', 'easily', 'lot', 'lack', 'make', 'want', 'seem', 'run', 'need', 'even', 'right', 'line', 'even', 'also', 'may', 'take', 'come'])"
      ],
      "metadata": {
        "id": "j5fURj-YILJH"
      },
      "execution_count": null,
      "outputs": []
    },
    {
      "cell_type": "code",
      "source": [
        "print(stop_words)"
      ],
      "metadata": {
        "colab": {
          "base_uri": "https://localhost:8080/"
        },
        "id": "lOTP7d0hPaXl",
        "outputId": "2a7c8148-f6e9-4563-97e5-dbd65c5d1875"
      },
      "execution_count": null,
      "outputs": [
        {
          "output_type": "stream",
          "name": "stdout",
          "text": [
            "['i', 'me', 'my', 'myself', 'we', 'our', 'ours', 'ourselves', 'you', \"you're\", \"you've\", \"you'll\", \"you'd\", 'your', 'yours', 'yourself', 'yourselves', 'he', 'him', 'his', 'himself', 'she', \"she's\", 'her', 'hers', 'herself', 'it', \"it's\", 'its', 'itself', 'they', 'them', 'their', 'theirs', 'themselves', 'what', 'which', 'who', 'whom', 'this', 'that', \"that'll\", 'these', 'those', 'am', 'is', 'are', 'was', 'were', 'be', 'been', 'being', 'have', 'has', 'had', 'having', 'do', 'does', 'did', 'doing', 'a', 'an', 'the', 'and', 'but', 'if', 'or', 'because', 'as', 'until', 'while', 'of', 'at', 'by', 'for', 'with', 'about', 'against', 'between', 'into', 'through', 'during', 'before', 'after', 'above', 'below', 'to', 'from', 'up', 'down', 'in', 'out', 'on', 'off', 'over', 'under', 'again', 'further', 'then', 'once', 'here', 'there', 'when', 'where', 'why', 'how', 'all', 'any', 'both', 'each', 'few', 'more', 'most', 'other', 'some', 'such', 'no', 'nor', 'not', 'only', 'own', 'same', 'so', 'than', 'too', 'very', 's', 't', 'can', 'will', 'just', 'don', \"don't\", 'should', \"should've\", 'now', 'd', 'll', 'm', 'o', 're', 've', 'y', 'ain', 'aren', \"aren't\", 'couldn', \"couldn't\", 'didn', \"didn't\", 'doesn', \"doesn't\", 'hadn', \"hadn't\", 'hasn', \"hasn't\", 'haven', \"haven't\", 'isn', \"isn't\", 'ma', 'mightn', \"mightn't\", 'mustn', \"mustn't\", 'needn', \"needn't\", 'shan', \"shan't\", 'shouldn', \"shouldn't\", 'wasn', \"wasn't\", 'weren', \"weren't\", 'won', \"won't\", 'wouldn', \"wouldn't\", 'from', 'subject', 're', 'edu', 'use', 'not', 'would', 'say', 'could', '_', 'be', 'know', 'good', 'go', 'get', 'do', 'done', 'try', 'many', 'some', 'nice', 'thank', 'think', 'see', 'rather', 'easy', 'easily', 'lot', 'lack', 'make', 'want', 'seem', 'run', 'need', 'even', 'right', 'line', 'even', 'also', 'may', 'take', 'come']\n"
          ]
        }
      ]
    },
    {
      "cell_type": "markdown",
      "source": [
        "### Loading training and test data\n",
        "In both training and test, there are two columns, reviews and label"
      ],
      "metadata": {
        "id": "9qXZcNSj8nMV"
      }
    },
    {
      "cell_type": "code",
      "source": [
        "training = pd.read_csv('https://raw.githubusercontent.com/houpingx/houpingx.github.io/main/DB/training.csv')\n",
        "test = pd.read_csv('https://raw.githubusercontent.com/houpingx/houpingx.github.io/main/DB/test.csv')"
      ],
      "metadata": {
        "id": "e1wNyX19Imms"
      },
      "execution_count": null,
      "outputs": []
    },
    {
      "cell_type": "code",
      "source": [
        "print('Shape of the dataframe :')\n",
        "print(training.shape)\n",
        "print('Display the top 5 reviews :')\n",
        "training.head(5)"
      ],
      "metadata": {
        "colab": {
          "base_uri": "https://localhost:8080/",
          "height": 258
        },
        "id": "NhsvuaJbK9OU",
        "outputId": "93faab14-9c60-4f7f-95b1-ecd2379ee764"
      },
      "execution_count": null,
      "outputs": [
        {
          "output_type": "stream",
          "name": "stdout",
          "text": [
            "Shape of the dataframe :\n",
            "(10000, 2)\n",
            "Display the top 5 reviews :\n"
          ]
        },
        {
          "output_type": "execute_result",
          "data": {
            "text/plain": [
              "                                              review  label\n",
              "0  The Fury of the Wolfman is a very good film th...      1\n",
              "1  George Lopez is a funny man even without the s...      1\n",
              "2  Antonioni was aiming for another hip masterpie...      1\n",
              "3  My watch came a little too late but am glad i ...      1\n",
              "4  This is part one of a short animation clip sho...      1"
            ],
            "text/html": [
              "\n",
              "  <div id=\"df-d469ac70-51ad-452a-9167-feda66a9272f\">\n",
              "    <div class=\"colab-df-container\">\n",
              "      <div>\n",
              "<style scoped>\n",
              "    .dataframe tbody tr th:only-of-type {\n",
              "        vertical-align: middle;\n",
              "    }\n",
              "\n",
              "    .dataframe tbody tr th {\n",
              "        vertical-align: top;\n",
              "    }\n",
              "\n",
              "    .dataframe thead th {\n",
              "        text-align: right;\n",
              "    }\n",
              "</style>\n",
              "<table border=\"1\" class=\"dataframe\">\n",
              "  <thead>\n",
              "    <tr style=\"text-align: right;\">\n",
              "      <th></th>\n",
              "      <th>review</th>\n",
              "      <th>label</th>\n",
              "    </tr>\n",
              "  </thead>\n",
              "  <tbody>\n",
              "    <tr>\n",
              "      <th>0</th>\n",
              "      <td>The Fury of the Wolfman is a very good film th...</td>\n",
              "      <td>1</td>\n",
              "    </tr>\n",
              "    <tr>\n",
              "      <th>1</th>\n",
              "      <td>George Lopez is a funny man even without the s...</td>\n",
              "      <td>1</td>\n",
              "    </tr>\n",
              "    <tr>\n",
              "      <th>2</th>\n",
              "      <td>Antonioni was aiming for another hip masterpie...</td>\n",
              "      <td>1</td>\n",
              "    </tr>\n",
              "    <tr>\n",
              "      <th>3</th>\n",
              "      <td>My watch came a little too late but am glad i ...</td>\n",
              "      <td>1</td>\n",
              "    </tr>\n",
              "    <tr>\n",
              "      <th>4</th>\n",
              "      <td>This is part one of a short animation clip sho...</td>\n",
              "      <td>1</td>\n",
              "    </tr>\n",
              "  </tbody>\n",
              "</table>\n",
              "</div>\n",
              "      <button class=\"colab-df-convert\" onclick=\"convertToInteractive('df-d469ac70-51ad-452a-9167-feda66a9272f')\"\n",
              "              title=\"Convert this dataframe to an interactive table.\"\n",
              "              style=\"display:none;\">\n",
              "        \n",
              "  <svg xmlns=\"http://www.w3.org/2000/svg\" height=\"24px\"viewBox=\"0 0 24 24\"\n",
              "       width=\"24px\">\n",
              "    <path d=\"M0 0h24v24H0V0z\" fill=\"none\"/>\n",
              "    <path d=\"M18.56 5.44l.94 2.06.94-2.06 2.06-.94-2.06-.94-.94-2.06-.94 2.06-2.06.94zm-11 1L8.5 8.5l.94-2.06 2.06-.94-2.06-.94L8.5 2.5l-.94 2.06-2.06.94zm10 10l.94 2.06.94-2.06 2.06-.94-2.06-.94-.94-2.06-.94 2.06-2.06.94z\"/><path d=\"M17.41 7.96l-1.37-1.37c-.4-.4-.92-.59-1.43-.59-.52 0-1.04.2-1.43.59L10.3 9.45l-7.72 7.72c-.78.78-.78 2.05 0 2.83L4 21.41c.39.39.9.59 1.41.59.51 0 1.02-.2 1.41-.59l7.78-7.78 2.81-2.81c.8-.78.8-2.07 0-2.86zM5.41 20L4 18.59l7.72-7.72 1.47 1.35L5.41 20z\"/>\n",
              "  </svg>\n",
              "      </button>\n",
              "      \n",
              "  <style>\n",
              "    .colab-df-container {\n",
              "      display:flex;\n",
              "      flex-wrap:wrap;\n",
              "      gap: 12px;\n",
              "    }\n",
              "\n",
              "    .colab-df-convert {\n",
              "      background-color: #E8F0FE;\n",
              "      border: none;\n",
              "      border-radius: 50%;\n",
              "      cursor: pointer;\n",
              "      display: none;\n",
              "      fill: #1967D2;\n",
              "      height: 32px;\n",
              "      padding: 0 0 0 0;\n",
              "      width: 32px;\n",
              "    }\n",
              "\n",
              "    .colab-df-convert:hover {\n",
              "      background-color: #E2EBFA;\n",
              "      box-shadow: 0px 1px 2px rgba(60, 64, 67, 0.3), 0px 1px 3px 1px rgba(60, 64, 67, 0.15);\n",
              "      fill: #174EA6;\n",
              "    }\n",
              "\n",
              "    [theme=dark] .colab-df-convert {\n",
              "      background-color: #3B4455;\n",
              "      fill: #D2E3FC;\n",
              "    }\n",
              "\n",
              "    [theme=dark] .colab-df-convert:hover {\n",
              "      background-color: #434B5C;\n",
              "      box-shadow: 0px 1px 3px 1px rgba(0, 0, 0, 0.15);\n",
              "      filter: drop-shadow(0px 1px 2px rgba(0, 0, 0, 0.3));\n",
              "      fill: #FFFFFF;\n",
              "    }\n",
              "  </style>\n",
              "\n",
              "      <script>\n",
              "        const buttonEl =\n",
              "          document.querySelector('#df-d469ac70-51ad-452a-9167-feda66a9272f button.colab-df-convert');\n",
              "        buttonEl.style.display =\n",
              "          google.colab.kernel.accessAllowed ? 'block' : 'none';\n",
              "\n",
              "        async function convertToInteractive(key) {\n",
              "          const element = document.querySelector('#df-d469ac70-51ad-452a-9167-feda66a9272f');\n",
              "          const dataTable =\n",
              "            await google.colab.kernel.invokeFunction('convertToInteractive',\n",
              "                                                     [key], {});\n",
              "          if (!dataTable) return;\n",
              "\n",
              "          const docLinkHtml = 'Like what you see? Visit the ' +\n",
              "            '<a target=\"_blank\" href=https://colab.research.google.com/notebooks/data_table.ipynb>data table notebook</a>'\n",
              "            + ' to learn more about interactive tables.';\n",
              "          element.innerHTML = '';\n",
              "          dataTable['output_type'] = 'display_data';\n",
              "          await google.colab.output.renderOutput(dataTable, element);\n",
              "          const docLink = document.createElement('div');\n",
              "          docLink.innerHTML = docLinkHtml;\n",
              "          element.appendChild(docLink);\n",
              "        }\n",
              "      </script>\n",
              "    </div>\n",
              "  </div>\n",
              "  "
            ]
          },
          "metadata": {},
          "execution_count": 8
        }
      ]
    },
    {
      "cell_type": "markdown",
      "source": [
        "### Preprocess and clean the text data\n",
        "\n",
        "\n",
        "1.   Tokenize each sentences, that is, breaking a sentence into a list of words. For instance, 'Everyone gets good grade in msa8040' --> ['everyone', 'get', 'good', 'grade', 'in', 'msa8040']\n",
        "2.   Remove some unuseful words, punctuations, markers, numbers (maybe), etc.\n",
        "\n"
      ],
      "metadata": {
        "id": "40Z1hYpV9Q3E"
      }
    },
    {
      "cell_type": "code",
      "source": [
        "def preprocess_reviews(reviews):\n",
        "    reviews = [replace_no_space.sub(\"\", line.lower()) for line in reviews]\n",
        "    reviews = [replace_with_space.sub(\"\",line) for line in reviews]\n",
        "    \n",
        "    return reviews"
      ],
      "metadata": {
        "id": "c-SYGtLML04l"
      },
      "execution_count": null,
      "outputs": []
    },
    {
      "cell_type": "code",
      "source": [
        "reviews_train = training.review\n",
        "reviews_test = test.review"
      ],
      "metadata": {
        "id": "oZ3ufXi-L-zJ"
      },
      "execution_count": null,
      "outputs": []
    },
    {
      "cell_type": "code",
      "source": [
        "# clean & preprocess data\n",
        "replace_no_space = re.compile(\"(\\.)|(\\;)|(\\:)|(\\!)|(\\')|(\\?)|(\\,)|(\\\")|(\\()|(\\))|(\\[)|(\\])\")\n",
        "replace_with_space = re.compile(\"(<br\\s*/><br\\s*/>)|(\\-)|(\\/)\")\n",
        "\n",
        "reviews_train_clean = preprocess_reviews(reviews_train)\n",
        "reviews_test_clean = preprocess_reviews(reviews_test)"
      ],
      "metadata": {
        "id": "S6oybZ9pL09-"
      },
      "execution_count": null,
      "outputs": []
    },
    {
      "cell_type": "markdown",
      "source": [
        "### Prepare data for the following expriments"
      ],
      "metadata": {
        "id": "__NU7EvgMKwp"
      }
    },
    {
      "cell_type": "code",
      "source": [
        "cv = CountVectorizer(binary=True,stop_words='english',token_pattern=r'\\b[^\\d\\W]+\\b')\n",
        "cv.fit(reviews_train_clean)\n",
        "X = cv.transform(reviews_train_clean)\n",
        "X_test = cv.transform(reviews_test_clean)"
      ],
      "metadata": {
        "id": "ZciReBdEL1Do"
      },
      "execution_count": null,
      "outputs": []
    },
    {
      "cell_type": "code",
      "source": [
        "cv.get_feature_names()"
      ],
      "metadata": {
        "id": "3NxszYmvL1GR"
      },
      "execution_count": null,
      "outputs": []
    },
    {
      "cell_type": "markdown",
      "source": [
        "### Randomly split training data into training and validation data sets"
      ],
      "metadata": {
        "id": "FMFcK_bJMXta"
      }
    },
    {
      "cell_type": "code",
      "source": [
        "y = training.label\n",
        "X_train, X_val, y_train, y_val = train_test_split(X,y,train_size=0.85)"
      ],
      "metadata": {
        "id": "2Vc3jkCgMXJW"
      },
      "execution_count": null,
      "outputs": []
    },
    {
      "cell_type": "markdown",
      "source": [
        "### Logistic regression"
      ],
      "metadata": {
        "id": "SeQ86Zf7MmKl"
      }
    },
    {
      "cell_type": "code",
      "source": [
        "for c in [0.01, 0.05, 0.1, 0.5, 1]:\n",
        "    \n",
        "    lr = LogisticRegression(C=c)\n",
        "    lr.fit(X_train,y_train)\n",
        "    print (\"Accuracy for C = %s: %s\" % (c, accuracy_score(y_val, lr.predict(X_val))))\n",
        "    "
      ],
      "metadata": {
        "colab": {
          "base_uri": "https://localhost:8080/"
        },
        "id": "lHFX7CqjMXMA",
        "outputId": "4cc389fc-1531-4013-910a-c799111e5628"
      },
      "execution_count": null,
      "outputs": [
        {
          "output_type": "stream",
          "name": "stdout",
          "text": [
            "Accuracy for C = 0.01: 0.8613333333333333\n",
            "Accuracy for C = 0.05: 0.8653333333333333\n",
            "Accuracy for C = 0.1: 0.868\n",
            "Accuracy for C = 0.5: 0.8613333333333333\n",
            "Accuracy for C = 1: 0.8586666666666667\n"
          ]
        }
      ]
    },
    {
      "cell_type": "code",
      "source": [
        "final_model = LogisticRegression(C=0.05)\n",
        "final_model.fit(X,y)\n",
        "y_test = test.label\n",
        "print (\"Final Accuracy : %s\" % accuracy_score(y_test,final_model.predict(X_test)))\n",
        "confusion_matrix(y,final_model.predict(X_test))"
      ],
      "metadata": {
        "colab": {
          "base_uri": "https://localhost:8080/"
        },
        "id": "osWe2V-qMXOc",
        "outputId": "56a04d25-a541-4cc3-9161-fb8e6bde9414"
      },
      "execution_count": null,
      "outputs": [
        {
          "output_type": "stream",
          "name": "stdout",
          "text": [
            "Final Accuracy : 0.8663\n"
          ]
        },
        {
          "output_type": "execute_result",
          "data": {
            "text/plain": [
              "array([[4306,  694],\n",
              "       [ 643, 4357]])"
            ]
          },
          "metadata": {},
          "execution_count": 18
        }
      ]
    },
    {
      "cell_type": "code",
      "source": [
        "feature_to_coef = {\n",
        "    word: coef for word, coef in zip(\n",
        "    cv.get_feature_names(),final_model.coef_[0])\n",
        "}\n",
        "\n",
        "for best_positive in sorted(feature_to_coef.items(),key=lambda x:x[1], reverse=True)[:10]:\n",
        "    print(best_positive)"
      ],
      "metadata": {
        "colab": {
          "base_uri": "https://localhost:8080/"
        },
        "id": "uMN4QJgAMXQ2",
        "outputId": "31655bbe-b11d-41c3-f500-c1fe85b46626"
      },
      "execution_count": null,
      "outputs": [
        {
          "output_type": "stream",
          "name": "stderr",
          "text": [
            "/usr/local/lib/python3.8/dist-packages/sklearn/utils/deprecation.py:87: FutureWarning: Function get_feature_names is deprecated; get_feature_names is deprecated in 1.0 and will be removed in 1.2. Please use get_feature_names_out instead.\n",
            "  warnings.warn(msg, category=FutureWarning)\n"
          ]
        },
        {
          "output_type": "stream",
          "name": "stdout",
          "text": [
            "('excellent', 0.8843150220811236)\n",
            "('great', 0.6672623393977196)\n",
            "('perfect', 0.5800746271130811)\n",
            "('best', 0.5476536253607572)\n",
            "('amazing', 0.5453084713226355)\n",
            "('favorite', 0.5376673008547482)\n",
            "('loved', 0.5141225279095306)\n",
            "('fantastic', 0.48647069116731184)\n",
            "('liked', 0.46674090014156705)\n",
            "('classic', 0.4497070380926154)\n"
          ]
        }
      ]
    },
    {
      "cell_type": "code",
      "source": [
        "for best_negative in sorted(feature_to_coef.items(),key=lambda x:x[1])[:10]:\n",
        "    print(best_negative)"
      ],
      "metadata": {
        "colab": {
          "base_uri": "https://localhost:8080/"
        },
        "id": "j4_lU2TeMXTg",
        "outputId": "7c5aef33-4ee9-45c9-c7df-654216bf323c"
      },
      "execution_count": null,
      "outputs": [
        {
          "output_type": "stream",
          "name": "stdout",
          "text": [
            "('worst', -1.0893834304596768)\n",
            "('waste', -0.9318368086862948)\n",
            "('awful', -0.8878062513916525)\n",
            "('boring', -0.729743973048694)\n",
            "('bad', -0.7164301043526059)\n",
            "('terrible', -0.7152473315698098)\n",
            "('worse', -0.7045782778444624)\n",
            "('dull', -0.6448239681844562)\n",
            "('horrible', -0.6183440689565569)\n",
            "('poor', -0.5934442165539343)\n"
          ]
        }
      ]
    },
    {
      "cell_type": "markdown",
      "source": [
        "### SVC"
      ],
      "metadata": {
        "id": "S4Zm5JofNnBw"
      }
    },
    {
      "cell_type": "code",
      "source": [
        "for c in [0.01,0.05,0.1,0.15,0.2,0.5,1]:\n",
        "    svm = SVC(C=c,kernel='linear')\n",
        "    svm.fit(X_train,y_train)\n",
        "    print (\"Accuracy for C = %s: %s\" % (c, accuracy_score(y_val, svm.predict(X_val))))"
      ],
      "metadata": {
        "colab": {
          "base_uri": "https://localhost:8080/"
        },
        "id": "vHljpqmTMXWU",
        "outputId": "66d1c288-d019-4962-81da-44712f7902d9"
      },
      "execution_count": null,
      "outputs": [
        {
          "output_type": "stream",
          "name": "stdout",
          "text": [
            "Accuracy for C = 0.01: 0.8666666666666667\n",
            "Accuracy for C = 0.05: 0.8553333333333333\n",
            "Accuracy for C = 0.1: 0.846\n",
            "Accuracy for C = 0.15: 0.842\n",
            "Accuracy for C = 0.2: 0.844\n",
            "Accuracy for C = 0.5: 0.8426666666666667\n",
            "Accuracy for C = 1: 0.8413333333333334\n"
          ]
        }
      ]
    },
    {
      "cell_type": "code",
      "source": [
        "svm = SVC(gamma='auto',C=0.01,kernel='linear')\n",
        "svm.fit(X, y)\n",
        "print (\"Final Accuracy : %s\" % accuracy_score(y,svm.predict(X_test)))"
      ],
      "metadata": {
        "colab": {
          "base_uri": "https://localhost:8080/"
        },
        "id": "bt6NV_A9N1pK",
        "outputId": "2231e20f-878c-4f72-f13f-a03c9a2d6869"
      },
      "execution_count": null,
      "outputs": [
        {
          "output_type": "stream",
          "name": "stdout",
          "text": [
            "Final Accuracy : 0.8628\n"
          ]
        }
      ]
    },
    {
      "cell_type": "code",
      "source": [
        "feature_to_coef = {\n",
        "    word: coef for word, coef in zip(\n",
        "    cv.get_feature_names(),svm.coef_[0].toarray()[0])\n",
        "}\n",
        "\n",
        "for best_positive in sorted(feature_to_coef.items(),key=lambda x:x[1], reverse=True)[:10]:\n",
        "    print(best_positive)"
      ],
      "metadata": {
        "colab": {
          "base_uri": "https://localhost:8080/"
        },
        "id": "N9nu0bzQN1s-",
        "outputId": "9e8df2d3-bf5d-49c7-abbb-316acaab9ee2"
      },
      "execution_count": null,
      "outputs": [
        {
          "output_type": "stream",
          "name": "stdout",
          "text": [
            "('excellent', 0.44195162343950856)\n",
            "('great', 0.34787313432528283)\n",
            "('amazing', 0.290006797330905)\n",
            "('liked', 0.285588501916759)\n",
            "('best', 0.28524821053467336)\n",
            "('loved', 0.25819930130977164)\n",
            "('favorite', 0.25770514149735546)\n",
            "('wonderful', 0.24813478054079768)\n",
            "('perfect', 0.24186491070827645)\n",
            "('enjoyed', 0.23848631928382613)\n"
          ]
        },
        {
          "output_type": "stream",
          "name": "stderr",
          "text": [
            "/usr/local/lib/python3.8/dist-packages/sklearn/utils/deprecation.py:87: FutureWarning: Function get_feature_names is deprecated; get_feature_names is deprecated in 1.0 and will be removed in 1.2. Please use get_feature_names_out instead.\n",
            "  warnings.warn(msg, category=FutureWarning)\n"
          ]
        }
      ]
    },
    {
      "cell_type": "code",
      "source": [
        "for best_negative in sorted(feature_to_coef.items(),key=lambda x:x[1])[:10]:\n",
        "    print(best_negative)"
      ],
      "metadata": {
        "colab": {
          "base_uri": "https://localhost:8080/"
        },
        "id": "dKq6qBAYN1w_",
        "outputId": "eae99c46-3d38-42ce-ae3f-4faee07cbe33"
      },
      "execution_count": null,
      "outputs": [
        {
          "output_type": "stream",
          "name": "stdout",
          "text": [
            "('worst', -0.5460256017094325)\n",
            "('awful', -0.4628432819094569)\n",
            "('waste', -0.45486400983077635)\n",
            "('boring', -0.3900085298764479)\n",
            "('bad', -0.38103683187652304)\n",
            "('terrible', -0.37934143158764694)\n",
            "('worse', -0.3492930596398398)\n",
            "('horrible', -0.3362260405828974)\n",
            "('dull', -0.32366394908384327)\n",
            "('poor', -0.3078765251275138)\n"
          ]
        }
      ]
    },
    {
      "cell_type": "markdown",
      "source": [
        "### KNN"
      ],
      "metadata": {
        "id": "kDN72FV1P1_8"
      }
    },
    {
      "cell_type": "code",
      "source": [
        "from sklearn.neighbors import KNeighborsClassifier\n",
        "for k in [3,5,7,9,11,13,21]:\n",
        "  knn = KNeighborsClassifier(n_neighbors=k)\n",
        "  knn.fit(X_train, y_train)\n",
        "\n",
        "  print (\"Accuracy for C = %s: %s\" % (k, accuracy_score(y_val, knn.predict(X_val))))"
      ],
      "metadata": {
        "colab": {
          "base_uri": "https://localhost:8080/"
        },
        "id": "YknBIS0DN11A",
        "outputId": "61fef461-2d8f-4156-fafe-1a7b7ec07204"
      },
      "execution_count": null,
      "outputs": [
        {
          "output_type": "stream",
          "name": "stdout",
          "text": [
            "Accuracy for C = 1: 0.6213333333333333\n",
            "Accuracy for C = 1: 0.6346666666666667\n",
            "Accuracy for C = 1: 0.634\n",
            "Accuracy for C = 1: 0.6473333333333333\n",
            "Accuracy for C = 1: 0.6406666666666667\n",
            "Accuracy for C = 1: 0.6473333333333333\n",
            "Accuracy for C = 1: 0.6666666666666666\n"
          ]
        }
      ]
    },
    {
      "cell_type": "markdown",
      "source": [
        "### Decision Tree"
      ],
      "metadata": {
        "id": "NzKGrWy8SJWd"
      }
    },
    {
      "cell_type": "code",
      "source": [
        "from sklearn.tree import DecisionTreeClassifier\n",
        "\n",
        "decisiontree = DecisionTreeClassifier()\n",
        "decisiontree.fit(X_train, y_train)\n",
        "\n",
        "print (\"Accuracy: %s\" % (accuracy_score(y_val, decisiontree.predict(X_val))))"
      ],
      "metadata": {
        "colab": {
          "base_uri": "https://localhost:8080/"
        },
        "id": "Ut52IZkvN16i",
        "outputId": "33e82ddf-7eb0-4bcf-e77f-05a61dd2194a"
      },
      "execution_count": null,
      "outputs": [
        {
          "output_type": "stream",
          "name": "stdout",
          "text": [
            "Accuracy: 0.7193333333333334\n"
          ]
        }
      ]
    },
    {
      "cell_type": "markdown",
      "source": [
        "### Random Forest"
      ],
      "metadata": {
        "id": "gpf3xjgKSMQh"
      }
    },
    {
      "cell_type": "code",
      "source": [
        "from sklearn.ensemble import RandomForestRegressor\n",
        "\n",
        "randomforest = RandomForestRegressor(n_estimators=20, random_state=0)\n",
        "randomforest.fit(X_train, y_train)\n",
        "\n",
        "print (\"Accuracy: %s\" % (accuracy_score(y_val, (randomforest.predict(X_val)>=0.5).astype(float))))"
      ],
      "metadata": {
        "colab": {
          "base_uri": "https://localhost:8080/"
        },
        "id": "3t-rtaRZEO21",
        "outputId": "1bc9d911-2f31-413d-bdfb-91d9f5a2663e"
      },
      "execution_count": null,
      "outputs": [
        {
          "output_type": "stream",
          "name": "stdout",
          "text": [
            "Accuracy: 0.7673333333333333\n"
          ]
        }
      ]
    },
    {
      "cell_type": "markdown",
      "source": [
        "### Naive Bayes Classifier using Gaussian"
      ],
      "metadata": {
        "id": "_Kk8Uql7SPdN"
      }
    },
    {
      "cell_type": "code",
      "source": [
        "clf_nb = GaussianNB() \n",
        "clf_nb.fit(X_train.toarray(),y_train )\n",
        "print (\"Accuracy : %s\" % accuracy_score(y_val,clf_nb.predict(X_val.toarray())))"
      ],
      "metadata": {
        "id": "0C2gvuaH-IVa",
        "colab": {
          "base_uri": "https://localhost:8080/"
        },
        "outputId": "2733012e-2ad6-4667-a414-33a7224d027a"
      },
      "execution_count": null,
      "outputs": [
        {
          "output_type": "stream",
          "name": "stdout",
          "text": [
            "Final Accuracy : 0.656\n"
          ]
        }
      ]
    },
    {
      "cell_type": "markdown",
      "source": [
        "### Naive Bayes Classifier using Multinomail"
      ],
      "metadata": {
        "id": "bnGHLORlSSq_"
      }
    },
    {
      "cell_type": "code",
      "source": [
        "from sklearn.naive_bayes import MultinomialNB\n",
        "\n",
        "mnb = MultinomialNB().fit(X_train, y_train)\n",
        "print (\"Accuracy: %s\" % (accuracy_score(y_val, mnb.predict(X_val))))"
      ],
      "metadata": {
        "colab": {
          "base_uri": "https://localhost:8080/"
        },
        "id": "zNApCzPlQWsc",
        "outputId": "9917c390-51bf-48a3-cb35-a36ae4a13daf"
      },
      "execution_count": null,
      "outputs": [
        {
          "output_type": "stream",
          "name": "stdout",
          "text": [
            "Accuracy: 0.8573333333333333\n"
          ]
        }
      ]
    },
    {
      "cell_type": "markdown",
      "source": [
        "## Word2Vec\n"
      ],
      "metadata": {
        "id": "yK1Y8HgnTEga"
      }
    },
    {
      "cell_type": "code",
      "source": [
        "from gensim.test.utils import common_texts\n",
        "from gensim.models import Word2Vec\n",
        "\n",
        "model = Word2Vec(sentences=common_texts, size=100, window=5, min_count=1, workers=4)\n",
        "model.save(\"word2vec_demo.model\")"
      ],
      "metadata": {
        "colab": {
          "base_uri": "https://localhost:8080/"
        },
        "id": "tFWptSeaTHo1",
        "outputId": "32adb992-cc73-4670-9983-8529ef51f4bd"
      },
      "execution_count": null,
      "outputs": [
        {
          "output_type": "stream",
          "name": "stderr",
          "text": [
            "WARNING:gensim.models.base_any2vec:under 10 jobs per worker: consider setting a smaller `batch_words' for smoother alpha decay\n"
          ]
        }
      ]
    },
    {
      "cell_type": "code",
      "source": [
        "vector = model.wv['computer']  # numpy vector of a word"
      ],
      "metadata": {
        "id": "xaoqm7dsTHsm"
      },
      "execution_count": null,
      "outputs": []
    },
    {
      "cell_type": "code",
      "source": [
        "vector"
      ],
      "metadata": {
        "colab": {
          "base_uri": "https://localhost:8080/"
        },
        "id": "e9BFd9mjTMdD",
        "outputId": "6ac22337-7e7c-4431-e9f4-678e84243a1c"
      },
      "execution_count": null,
      "outputs": [
        {
          "output_type": "execute_result",
          "data": {
            "text/plain": [
              "array([-4.9745402e-04, -1.5121631e-03, -4.8474963e-03, -3.7636806e-03,\n",
              "        4.2839019e-04,  2.3583020e-03,  4.1200826e-03, -6.1694393e-04,\n",
              "       -4.2383433e-03,  2.7510205e-03,  2.8019424e-03, -1.6049416e-04,\n",
              "        9.4172405e-04,  9.0856786e-04,  4.0287157e-03,  3.5053361e-03,\n",
              "        4.8699509e-03,  4.2601642e-03, -3.2593368e-03,  3.9475478e-04,\n",
              "        5.1716861e-04,  3.7459675e-03, -1.4451732e-03, -4.3675308e-03,\n",
              "       -3.2184108e-03,  1.5215690e-03, -4.0394361e-03,  4.6502855e-03,\n",
              "        1.7729661e-03, -4.7144685e-03, -4.9152635e-03, -3.3499426e-03,\n",
              "       -3.8640359e-03, -4.7558285e-03,  1.9511918e-03,  4.3707672e-03,\n",
              "       -1.0017244e-03,  2.0387250e-03,  2.6479647e-03, -4.8783282e-03,\n",
              "       -4.4108373e-03, -2.2441465e-03,  1.2291233e-03, -1.1915270e-03,\n",
              "        4.7032391e-03,  2.4244760e-03,  2.9362307e-04, -1.0944718e-03,\n",
              "        3.6564886e-03,  7.1550667e-04,  1.9193446e-04, -1.3770919e-03,\n",
              "        4.4503235e-03, -1.5059995e-03, -6.8018929e-04, -1.1205347e-03,\n",
              "        1.4595793e-03,  3.2986305e-03,  3.9677173e-03,  1.8957100e-03,\n",
              "       -1.1509102e-03,  6.2936585e-04, -2.4156738e-03, -2.9132618e-03,\n",
              "        4.7813905e-03, -4.8668752e-03,  4.4149156e-03,  2.8399932e-03,\n",
              "        2.7929489e-03,  1.6084255e-03, -1.0153449e-03, -9.4203664e-05,\n",
              "        1.8686719e-03, -4.6266634e-03, -1.6017096e-03,  1.1443953e-03,\n",
              "       -2.3055603e-03,  4.4214241e-03, -3.7277879e-03,  2.1406834e-03,\n",
              "        4.5382653e-04,  4.0704357e-03, -2.5397104e-03,  2.2813054e-03,\n",
              "        3.5188233e-03, -4.5227897e-03,  1.5482848e-04,  3.4253150e-03,\n",
              "        3.9595165e-03,  1.5419356e-03,  5.0285103e-04, -3.5580867e-03,\n",
              "        3.2891554e-03, -2.0080050e-03, -1.8566770e-03, -3.3672680e-03,\n",
              "       -1.8791308e-03,  2.4074670e-03,  2.2527368e-03,  6.1605574e-04],\n",
              "      dtype=float32)"
            ]
          },
          "metadata": {},
          "execution_count": 35
        }
      ]
    },
    {
      "cell_type": "code",
      "source": [
        "model.most_similar('computer')"
      ],
      "metadata": {
        "colab": {
          "base_uri": "https://localhost:8080/"
        },
        "id": "eC0MwKBvTN5w",
        "outputId": "ae1e8d6e-51a1-4983-8e1d-474eace95105"
      },
      "execution_count": null,
      "outputs": [
        {
          "output_type": "execute_result",
          "data": {
            "text/plain": [
              "[('response', 0.13790246844291687),\n",
              " ('trees', 0.135341078042984),\n",
              " ('interface', 0.13504242897033691),\n",
              " ('graph', 0.10856884717941284),\n",
              " ('minors', 0.08189325034618378),\n",
              " ('user', 0.0806637555360794),\n",
              " ('system', 0.04466661438345909),\n",
              " ('eps', 0.02010362595319748),\n",
              " ('survey', 0.017436539754271507),\n",
              " ('human', -0.04083963483572006)]"
            ]
          },
          "metadata": {},
          "execution_count": 36
        }
      ]
    },
    {
      "cell_type": "code",
      "source": [],
      "metadata": {
        "id": "wa50G8bHTQCp"
      },
      "execution_count": null,
      "outputs": []
    },
    {
      "cell_type": "markdown",
      "source": [
        "### Pretrained word2vec models"
      ],
      "metadata": {
        "id": "r3-ZzUhhTVI_"
      }
    },
    {
      "cell_type": "code",
      "source": [
        "import gensim.downloader"
      ],
      "metadata": {
        "id": "S0m5HPKxTZDH"
      },
      "execution_count": null,
      "outputs": []
    },
    {
      "cell_type": "code",
      "source": [
        "print(list(gensim.downloader.info()['models'].keys()))"
      ],
      "metadata": {
        "colab": {
          "base_uri": "https://localhost:8080/"
        },
        "id": "NLXUXe_4TaSS",
        "outputId": "0b05e727-3e84-4c43-f341-7df85fdebb08"
      },
      "execution_count": null,
      "outputs": [
        {
          "output_type": "stream",
          "name": "stdout",
          "text": [
            "['fasttext-wiki-news-subwords-300', 'conceptnet-numberbatch-17-06-300', 'word2vec-ruscorpora-300', 'word2vec-google-news-300', 'glove-wiki-gigaword-50', 'glove-wiki-gigaword-100', 'glove-wiki-gigaword-200', 'glove-wiki-gigaword-300', 'glove-twitter-25', 'glove-twitter-50', 'glove-twitter-100', 'glove-twitter-200', '__testing_word2vec-matrix-synopsis']\n"
          ]
        }
      ]
    },
    {
      "cell_type": "code",
      "source": [
        "glove_vectors = gensim.downloader.load('glove-twitter-25')"
      ],
      "metadata": {
        "colab": {
          "base_uri": "https://localhost:8080/"
        },
        "id": "PMi1rYqJTbyC",
        "outputId": "93d7d2f9-97be-4298-cd31-90acb95adf0f"
      },
      "execution_count": null,
      "outputs": [
        {
          "output_type": "stream",
          "name": "stdout",
          "text": [
            "[================================================--] 97.6% 102.2/104.8MB downloaded\n"
          ]
        }
      ]
    },
    {
      "cell_type": "code",
      "source": [
        "glove_vectors.most_similar('twitter')"
      ],
      "metadata": {
        "colab": {
          "base_uri": "https://localhost:8080/"
        },
        "id": "TXANY1SETdLw",
        "outputId": "16b21609-ac9b-4195-9c5d-1b00252cdcbf"
      },
      "execution_count": null,
      "outputs": [
        {
          "output_type": "execute_result",
          "data": {
            "text/plain": [
              "[('facebook', 0.9480051398277283),\n",
              " ('tweet', 0.9403422474861145),\n",
              " ('fb', 0.9342358708381653),\n",
              " ('instagram', 0.9104823470115662),\n",
              " ('chat', 0.8964964747428894),\n",
              " ('hashtag', 0.8885936141014099),\n",
              " ('tweets', 0.8878157734870911),\n",
              " ('tl', 0.8778461813926697),\n",
              " ('link', 0.877821147441864),\n",
              " ('internet', 0.8753897547721863)]"
            ]
          },
          "metadata": {},
          "execution_count": 40
        }
      ]
    },
    {
      "cell_type": "code",
      "source": [],
      "metadata": {
        "id": "ZUd0f62FTvNE"
      },
      "execution_count": null,
      "outputs": []
    }
  ]
}